{
 "cells": [
  {
   "cell_type": "code",
   "execution_count": 3,
   "metadata": {},
   "outputs": [
    {
     "name": "stdout",
     "output_type": "stream",
     "text": [
      "Downloaded 42 images\n"
     ]
    }
   ],
   "source": [
    "import os\n",
    "import requests\n",
    "from bs4 import BeautifulSoup\n",
    "from urllib.parse import urljoin\n",
    "from zipfile import ZipFile\n",
    "\n",
    "def download_images(url, download_folder):\n",
    "    response = requests.get(url)\n",
    "    soup = BeautifulSoup(response.text, 'html.parser')\n",
    "\n",
    "    image_urls = [urljoin(url, img['src']) for img in soup.find_all('img') if 'src' in img.attrs]\n",
    "\n",
    "    if not os.path.exists(download_folder):\n",
    "        os.makedirs(download_folder)\n",
    "\n",
    "    for img_url in image_urls:\n",
    "        img_name = os.path.basename(img_url)\n",
    "        img_path = os.path.join(download_folder, img_name)\n",
    "        with open(img_path, 'wb') as img_file:\n",
    "            img_file.write(requests.get(img_url).content)\n",
    "\n",
    "    return image_urls\n",
    "\n",
    "def zip_images(zip_filename, images_folder):\n",
    "    with ZipFile(zip_filename, 'w') as zip_file:\n",
    "        for root, _, files in os.walk(images_folder):\n",
    "            for file in files:\n",
    "                file_path = os.path.join(root, file)\n",
    "                arcname = os.path.relpath(file_path, images_folder)\n",
    "                zip_file.write(file_path, arcname=arcname)\n",
    "\n",
    "def extract_html_filenames(folder_path):\n",
    "    html_files = [file for file in os.listdir(folder_path) if file.endswith(\".html\")]\n",
    "    return html_files\n",
    "\n",
    "if __name__ == \"__main__\":\n",
    "    \n",
    "    html_file_names = extract_html_filenames('/home/rayyan-inqline/Documents/GitHub/Ecommerce-Website')\n",
    "    for i in html_file_names:\n",
    "        website_url = f\"https://aonetheme.com/milcandy/{i}\"  # Replace with the actual website URL\n",
    "        download_folder = \"website_images_ecommerce\"\n",
    "        image_urls = download_images(website_url, download_folder)\n",
    "\n",
    "    print(f\"Downloaded {len(image_urls)} images\")\n"
   ]
  },
  {
   "cell_type": "code",
   "execution_count": 1,
   "metadata": {},
   "outputs": [
    {
     "name": "stdout",
     "output_type": "stream",
     "text": [
      "Collecting bs4\n",
      "  Using cached bs4-0.0.2-py2.py3-none-any.whl (1.2 kB)\n",
      "Collecting beautifulsoup4\n",
      "  Using cached beautifulsoup4-4.12.3-py3-none-any.whl (147 kB)\n",
      "Collecting soupsieve>1.2\n",
      "  Using cached soupsieve-2.5-py3-none-any.whl (36 kB)\n",
      "Installing collected packages: soupsieve, beautifulsoup4, bs4\n",
      "\u001b[31mERROR: pip's dependency resolver does not currently take into account all the packages that are installed. This behaviour is the source of the following dependency conflicts.\n",
      "django-helpdesk 1.1.0 requires markdown, which is not installed.\u001b[0m\u001b[31m\n",
      "\u001b[0mSuccessfully installed beautifulsoup4-4.12.3 bs4-0.0.2 soupsieve-2.5\n",
      "Note: you may need to restart the kernel to use updated packages.\n"
     ]
    }
   ],
   "source": [
    "pip install bs4"
   ]
  },
  {
   "cell_type": "code",
   "execution_count": 3,
   "metadata": {},
   "outputs": [],
   "source": [
    "def extract_html_filenames(folder_path):\n",
    "    html_files = [file for file in os.listdir(folder_path) if file.endswith(\".html\")]\n",
    "    return html_files"
   ]
  },
  {
   "cell_type": "code",
   "execution_count": 4,
   "metadata": {},
   "outputs": [],
   "source": [
    "html_file_names = extract_html_filenames('/home/rayyan-inqline/Documents/GitHub/Restaurant-Website')"
   ]
  },
  {
   "cell_type": "code",
   "execution_count": 5,
   "metadata": {},
   "outputs": [
    {
     "data": {
      "text/plain": [
       "['team.html',\n",
       " 'event.html',\n",
       " 'offer.html',\n",
       " 'shop.html',\n",
       " 'blog.html',\n",
       " 'contact.html',\n",
       " 'home-2.html',\n",
       " '404.html',\n",
       " 'reservation.html',\n",
       " 'menu.html',\n",
       " 'blog-single.html',\n",
       " 'shop-single.html',\n",
       " 'about.html',\n",
       " 'index.html',\n",
       " 'portfolio.html']"
      ]
     },
     "execution_count": 5,
     "metadata": {},
     "output_type": "execute_result"
    }
   ],
   "source": [
    "html_file_names"
   ]
  },
  {
   "cell_type": "code",
   "execution_count": null,
   "metadata": {},
   "outputs": [],
   "source": []
  },
  {
   "cell_type": "code",
   "execution_count": null,
   "metadata": {},
   "outputs": [],
   "source": []
  }
 ],
 "metadata": {
  "kernelspec": {
   "display_name": "Python 3 (ipykernel)",
   "language": "python",
   "name": "python3"
  },
  "language_info": {
   "codemirror_mode": {
    "name": "ipython",
    "version": 3
   },
   "file_extension": ".py",
   "mimetype": "text/x-python",
   "name": "python",
   "nbconvert_exporter": "python",
   "pygments_lexer": "ipython3",
   "version": "3.9.13"
  }
 },
 "nbformat": 4,
 "nbformat_minor": 2
}
